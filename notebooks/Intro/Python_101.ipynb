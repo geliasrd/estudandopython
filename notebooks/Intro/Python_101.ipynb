{
 "cells": [
  {
   "cell_type": "markdown",
   "metadata": {},
   "source": [
    "# Python 101"
   ]
  },
  {
   "cell_type": "markdown",
   "metadata": {},
   "source": [
    "[![Binder](https://mybinder.org/badge_logo.svg)](https://mybinder.org/v2/gh/geliasrd/estudandopython/master?filepath=%2Fnotebooks%2FIntro%2FPython_101.ipynb)"
   ]
  },
  {
   "cell_type": "markdown",
   "metadata": {},
   "source": [
    "## Primeiros comandos e noções básicas"
   ]
  },
  {
   "cell_type": "markdown",
   "metadata": {},
   "source": [
    "### Comentários e Sintaxe\n",
    "Começaremos com o mais crucial para qualquer linguagem, o comentário.\n",
    "No Python, assim como no R, comentamos com a utilização da `#` seguido do que desejamos escrever:"
   ]
  },
  {
   "cell_type": "code",
   "execution_count": 1,
   "metadata": {},
   "outputs": [],
   "source": [
    "# isso é um comentário, comentários são ignorados na hora da execução\n",
    "print(\"abc\") # depois da hasthag é comentário, antes não\n",
    "# print(\"def\") essa linha não vai ser executada"
   ]
  },
  {
   "cell_type": "markdown",
   "metadata": {},
   "source": [
    "O que no R e em muitas outras linguagens é utilizado simplesmente por questões estéticas e para facilitar a leitura, no Python é obrigatório e essencial, é o que mantêm tudo funcionando, a saber, a **indentação**.\n",
    "\n",
    "A quantidade de espaços é de escolha sua, mas o padrão é 4 espaços. Mais pra frente veremos como e quando utilizar. Vale apontar que em um mesmo bloco, deve ser utilizado o mesmo número de espaços. O mais seguro e recomendado é sempre utilizar 4.\n",
    "\n",
    "As `{}`, `[]`, ou até mesmo palavras chave não são necessárias pra evidenciar um loop ou condicionamento, apenas indentar da maneira correta. (Pois afinal de contas, mesmo utilizando as chaves, a gente sempre acabava indentando igual pra conseguir entender melhor o que estava acontecendo.)\n",
    "\n",
    "E também, ao invés de utilizar `:` ou `;` no final de praticamente todas as linhas como em *C*, não utilizamos nada, apenas passamos para a próxima linha, simples.\n",
    "Porém obviamente em alguns casos precisamos alguns símbolos, como por exemplo no `if`, `for` e etc.\n",
    "\n",
    "Além disso, o Python é uma linguagem 'case sensitive', ou seja, difere as letras maiúsculas de minúsculas, igual ao R."
   ]
  },
  {
   "cell_type": "code",
   "execution_count": 2,
   "metadata": {},
   "outputs": [],
   "source": [
    "for x in range(6):\n",
    "    if x > 3:\n",
    "        print(\"x eh maior do que 3\")\n",
    "    elif x == 3:\n",
    "        print(\"x eh igual a 3\")\n",
    "    else:\n",
    "        print(\"x eh menor do que 3\")"
   ]
  },
  {
   "cell_type": "markdown",
   "metadata": {},
   "source": [
    "### Função Print\n",
    "\n",
    "O comando `print` nos permite escrever na tela o que precisarmos, de maneira muito simples. Basta chamar a função, e dentro dela escrever o que queremos entres aspas, ou até incluir variáveis.\n",
    "É possível usar vários objetos em um só comando, separando eles por `,`.\n",
    "\n",
    "O que separa um objeto do outro no output é padronizado como sendo o espaço em branco. Porém se necessário pode ser alterado utilizando o argumento `sep = `.\n",
    "A função print ainda possui outros argumentos, porém não são interessantes pra agora.\n"
   ]
  },
  {
   "cell_type": "code",
   "execution_count": 3,
   "metadata": {},
   "outputs": [],
   "source": [
    "x = \"!\"\n",
    "print(\"Hello\", \"World\")\n",
    "print(\"Hello\", \"World\", sep = \"---\")\n",
    "print(\"Hello World\", x, sep = \"\")"
   ]
  },
  {
   "cell_type": "markdown",
   "metadata": {},
   "source": [
    "### Variáveis\n",
    "\n",
    "No Python normalmente não utilizamos nenhum comando na hora de declarar uma variável, assim como no R. Basta atribuir um valor ao nome desejado que ela é criada automaticamente, com o tipo \"mais adequado\" pra situação.\n",
    "Porém vale ressaltar que o tipo também pode ser mudado depois, sem problemas.\n",
    "O nome da variável pode começar com letras ou `_`, e ela pode conter letras, números e o underline (`_`).\n",
    "Lembrando que o Python é uma linguagem que difere letras maiúsculas de minúsculas, ou seja, podem existir variáveis com nomes praticamente idênticos, mudando apenas a capitalização."
   ]
  },
  {
   "cell_type": "code",
   "execution_count": 4,
   "metadata": {},
   "outputs": [
    {
     "name": "stdout",
     "output_type": "stream",
     "text": [
      "abc 34\n",
      "22\n",
      "4 4 4\n",
      "1 2 oi\n"
     ]
    }
   ],
   "source": [
    "var1 = \"abc\"    # é diferente da Var1\n",
    "Var1 = \"def\"\n",
    "_nome = 34\n",
    "print(var1, _nome)\n",
    "\n",
    "var1 = 22       # podemos mudar o valor e/ou o tipo dela depois, redeclarando\n",
    "print(var1)\n",
    "\n",
    "# podemos também declarar varias variáveis de uma vez só\n",
    "var1 = var2 = var3 = 4\n",
    "x, y, z = 1, 2, \"oi\"\n",
    "print(var1, var2, var3)\n",
    "print(x,y,z)"
   ]
  },
  {
   "cell_type": "markdown",
   "metadata": {},
   "source": [
    "Os \"**data types**\" mais básicos são:\n",
    "- `int` : números inteiros\n",
    "- `float` : numero com ponto flutuante\n",
    "- `bool` : `True` (`1`) ou `False` (`0`) *(no R é TRUE ou FALSE)*\n",
    "- `str` : strings, texto entre `' '` ou `\" \"`, ou aspas triplas pra texto em mais de uma linha\n",
    "\n",
    "Como dito anteriormente, o Python atribui automaticamente um tipo à variável quando ela é criada, e isso é o bastante na grande maioria dos casos. Porém é possível, se quiser, declarar a variável tendo um tipo específico, ou até mudar o tipo de uma variável já criada.\n",
    "\n",
    "Para saber o tipo da variável com que estamos lidando, devemos usar a função `type()`, ao inves da `class()` do *R*."
   ]
  },
  {
   "cell_type": "code",
   "execution_count": 5,
   "metadata": {},
   "outputs": [
    {
     "name": "stdout",
     "output_type": "stream",
     "text": [
      "8 <class 'int'> \n",
      " 8.8 <class 'float'> \n",
      " oito <class 'str'> \n",
      " True <class 'bool'>\n",
      "9 <class 'int'> \n",
      " 9.8 <class 'float'> \n",
      " 9 <class 'int'> \n",
      " 10 <class 'int'> \n",
      " nove <class 'str'> \n",
      " False <class 'bool'> \n",
      " 9.8 <class 'str'>\n",
      "Olá mundo,\n",
      "este aqui é um texto maior que o normal,\n",
      "e por isso precisamos de mais de uma linha\n"
     ]
    }
   ],
   "source": [
    "x = 8       # int\n",
    "y = 8.8     # float\n",
    "z = \"oito\"  # string\n",
    "b = True    # booleano\n",
    "\n",
    "print(x, type(x), \"\\n\",\n",
    "      y, type(y), \"\\n\",\n",
    "      z, type(z), \"\\n\",\n",
    "      b, type(b))\n",
    "\n",
    "# note que com o \"\\n\", estamos botando uma string entre os elementos,\n",
    "# e essa string é o código \\n que simboliza nova linha\n",
    "\n",
    "x = int(9)\n",
    "y = float(9.8)\n",
    "r = int(9.8)         # note que ele desconsidera a parte decimal\n",
    "a = int(round(9.8))  # agora iremos arredondar o numero decimal\n",
    "z = str(\"nove\")\n",
    "b = bool(0)\n",
    "t = str(y)\n",
    "\n",
    "\n",
    "print(x, type(x), \"\\n\",\n",
    "      y, type(y), \"\\n\",\n",
    "      r, type(r), \"\\n\",\n",
    "      a, type(a), \"\\n\",\n",
    "      z, type(z), \"\\n\",\n",
    "      b, type(b), \"\\n\",\n",
    "      t, type(t))\n",
    "\n",
    "textogrande = \"\"\"Olá mundo,\n",
    "este aqui é um texto maior que o normal,\n",
    "e por isso precisamos de mais de uma linha\"\"\"\n",
    "\n",
    "print(textogrande)  # note que as quebras de linha são feitas no mesmo lugar que no código"
   ]
  },
  {
   "cell_type": "markdown",
   "metadata": {},
   "source": [
    "#### Operadores\n",
    "\n",
    "Antes de começarmos com os operadores aritméticos clássicos, precisamos entender que a maneira que o código se comporta depende do tipo da variável. Ou seja, uma função ou operador pode ter efeitos diferentes dependendo do tipo da variável, ou até nem funcionar/existir.\n",
    "\n",
    "Quando se trata de aritmética, temos:\n",
    "- `+`: adição\n",
    "- `-`: subtração\n",
    "- `*`: multiplicação\n",
    "- `/`: divisão\n",
    "- `%`: resto da divisão\n",
    "- `//`: quociente da divisão\n",
    "- `**`: exponenciação"
   ]
  },
  {
   "cell_type": "code",
   "execution_count": 6,
   "metadata": {},
   "outputs": [
    {
     "name": "stdout",
     "output_type": "stream",
     "text": [
      "11.2\n",
      "4.8\n",
      "25.6\n",
      "2.5\n",
      "1.5999999999999996\n",
      "2.0\n",
      "776.0468820533241\n"
     ]
    }
   ],
   "source": [
    "x = 8\n",
    "y = 3.2\n",
    "\n",
    "print(x+y)  # podemos fazer a operação dentro da função print\n",
    "print(x-y)\n",
    "print(x*y)\n",
    "print(x/y)\n",
    "print(x%y)\n",
    "print(x//y)\n",
    "print(x**y)"
   ]
  },
  {
   "cell_type": "markdown",
   "metadata": {},
   "source": [
    "Dois desses operadores também podem ser utilizados em strings!"
   ]
  },
  {
   "cell_type": "code",
   "execution_count": 7,
   "metadata": {},
   "outputs": [
    {
     "name": "stdout",
     "output_type": "stream",
     "text": [
      "Olamundo\n",
      "OlaOlaOla\n"
     ]
    }
   ],
   "source": [
    "a = \"Ola\"\n",
    "b = \"mundo\"\n",
    "\n",
    "print(a+b)\n",
    "print(a*3)"
   ]
  },
  {
   "cell_type": "markdown",
   "metadata": {},
   "source": [
    "Também podemos simplificar algumas operações em variáveis já declaradas com os seguintes comandos:\n",
    "- `+=`: é equivalente a: `x = x +`\n",
    "- `-=`: é equivalente a: `x = x -`\n",
    "- `*=`: é equivalente a: `x = x *`\n",
    "- `/=`: é equivalente a: `x = x /`\n",
    "- `%=`: é equivalente a: `x = x %`\n",
    "- `//=`: é equivalente a: `x = x //`\n",
    "- `**=`: é equivalente a: `x = x **`"
   ]
  },
  {
   "cell_type": "code",
   "execution_count": 8,
   "metadata": {},
   "outputs": [
    {
     "name": "stdout",
     "output_type": "stream",
     "text": [
      "10\n"
     ]
    }
   ],
   "source": [
    "x = 8\n",
    "x += 2      # mesma coisa do que x = x + 2\n",
    "print(x)"
   ]
  },
  {
   "cell_type": "markdown",
   "metadata": {},
   "source": [
    "Para comparação podemos usar os seguintes operadores:\n",
    "- `==`: igual\n",
    "- `!=`: diferente\n",
    "- `>`: maior\n",
    "- `<`: menor\n",
    "- `>=`: maior ou igual\n",
    "- `<=`: menor ou igual"
   ]
  },
  {
   "cell_type": "code",
   "execution_count": 9,
   "metadata": {},
   "outputs": [
    {
     "name": "stdout",
     "output_type": "stream",
     "text": [
      "False\n",
      "True\n",
      "True\n"
     ]
    }
   ],
   "source": [
    "x = 8\n",
    "y = 1\n",
    "a = \"Abc\"\n",
    "b = \"abc\"\n",
    "\n",
    "print(x == y)\n",
    "print(a != b)\n",
    "print(a < b)"
   ]
  },
  {
   "cell_type": "markdown",
   "metadata": {},
   "source": [
    "De operadores lógicos temos os 3 clássicos:\n",
    "- `and`: True se todos são True\n",
    "- `or`: True se ao menos um é True\n",
    "- `not`: Oposto do resultado"
   ]
  },
  {
   "cell_type": "code",
   "execution_count": 10,
   "metadata": {},
   "outputs": [
    {
     "name": "stdout",
     "output_type": "stream",
     "text": [
      "True\n",
      "False\n"
     ]
    }
   ],
   "source": [
    "x = 8\n",
    "y = 1\n",
    "a = \"Abc\"\n",
    "b = \"abc\"\n",
    "\n",
    "print(x == y or a != b)\n",
    "print(not(x > y))"
   ]
  },
  {
   "cell_type": "markdown",
   "metadata": {},
   "source": [
    "E por fim, temos os operadores de identidade. Eles não comparam se os objetos são iguais, mas sim se eles são o mesmo objeto, com mesma posição de memória:\n",
    "- `is`: True se ambos são o mesmo objeto\n",
    "- `is not`: True se os dois não são o mesmo objeto"
   ]
  },
  {
   "cell_type": "code",
   "execution_count": 11,
   "metadata": {},
   "outputs": [
    {
     "name": "stdout",
     "output_type": "stream",
     "text": [
      "True\n",
      "True\n"
     ]
    }
   ],
   "source": [
    "lista1 = [1,2,3]\n",
    "lista2 = lista1\n",
    "lista3 = lista1[:]\n",
    "\n",
    "print(lista2 is lista1)\n",
    "print(lista3 is not lista1)"
   ]
  },
  {
   "cell_type": "markdown",
   "metadata": {},
   "source": [
    "### Listas\n",
    "\n",
    "As `lists` do Python são semelhantes às listas do R. Ou seja, são um agrupamento sequencial de dados em uma variável, onde esses dados podem ou não ser do mesmo tipo.\n",
    "A lista comporta qualquer tipo de dado, e como a lista em si também é um tipo de dado, podemos ter uma lista contendo outra lista, e assim por diante. Vale notar que o conteúdo e o tamanho de uma lista podem ser alterados. Muitas vezes declaramos uma `empty list` pra depois ir adicionando objetos a ela.\n",
    "\n",
    "Para criar uma lista, escrevemos os objetos dentro de um  `[ ]`, e separamos eles com `,`. Selecionar elementos de uma lista é bem simples, escrevemos o nome da lista e logo depois abrimos colchetes, escrevendo qual index queremos. Podemos selecionar vários elementos utilizando dentro dos colchetes: `desde:até`. Se não especificarmos o primeiro elemento, é considerado desde o início, e se não especificarmos o segundo, é considerado até o final.\n",
    "\n",
    "Uma grande diferença aparece quando falamos de indexação, pois o Python é uma linguagem de base 0 index, enquanto o R é de base 1 index. Ou seja, o primeiro elemento de algo indexado no Python tem o número 0, enquanto no R, o primeiro elemento é o de número 1.\n",
    "Outra diferença também pode ser vista quando estamos selecionando elementos de uma lista. Por exemplo, no R tanto o início/esquerda, como o final/direita são inclusivos, porém em Python, a direita é exclusivo.\n",
    "\n",
    "Outra característica é que podemos usar índices negativos, começando pelo `-1` como sendo o último elemento, `-2` o penúltimo e assim por diante.\n",
    "\n",
    "c | o | r | o | l | a | r | i | o\n",
    ":-: | :-: | :-: | :-: | :-: | :-: | :-: | :-: | :-:\n",
    "0 | 1 | 2 | 3 | 4 | 5 | 6 | 7 | 8\n",
    "-9 | -8 | -7 | -6 | -5 | -4 | -3 | -2 | -1\n",
    "\n",
    "(iremos trabalhar com listas e strings agora, pois seu funcionamento é parecido)"
   ]
  },
  {
   "cell_type": "code",
   "execution_count": 12,
   "metadata": {},
   "outputs": [
    {
     "name": "stdout",
     "output_type": "stream",
     "text": [
      "o \n",
      " i \n",
      " orol\n",
      "2 \n",
      " [1, 2] \n",
      " [3, 'quatro']\n"
     ]
    }
   ],
   "source": [
    "str1 = \"corolario\"\n",
    "print(str1[1], \"\\n\",            # carácter de índice 1, segunda posição\n",
    "      str1[-2], \"\\n\",           # penúltimo\n",
    "      str1[1:-4])               # desde o primeiro índice, até o -4\n",
    "\n",
    "lista1 = [1, 2, 3, \"quatro\"]\n",
    "print(lista1[1], \"\\n\",          # elemento de índice 1, segunda posição\n",
    "      lista1[:2], \"\\n\",         # do inicio até a terceira posição\n",
    "      lista1[-2:])              # da penúltima até o fim"
   ]
  },
  {
   "cell_type": "markdown",
   "metadata": {},
   "source": [
    "Para manipularmos uma lista temos varias ferramentas, como trocar o valor de uma das posições, adicionar novos valores à lista, remover valores (alterando o índice geral), etc."
   ]
  },
  {
   "cell_type": "code",
   "execution_count": 13,
   "metadata": {},
   "outputs": [
    {
     "name": "stdout",
     "output_type": "stream",
     "text": [
      "[3, 1, 2, 3, 4]\n",
      "[5, 20, 22, 8, 9]\n",
      "[3, 1, 2, 3, 4, 5, 20, 22, 8, 9] \n",
      " [5, 20, 22, 8, 9, 3, 1, 2, 3, 4]\n",
      "[1, 3, 5, 22]\n",
      "20\n",
      "[3, 4, 5, 20, 22, 8, 9] \n",
      " 9\n"
     ]
    }
   ],
   "source": [
    "lista1 = [0, 1, 2, 3, 4]\n",
    "lista1[0] = 3                   # não funciona com strings\n",
    "print(lista1)\n",
    "\n",
    "lista2 = [5, 6, 7, 8, 9]\n",
    "lista2[1:3] = [20, 22]          # trocando os de índice 1 e 2, por 20 e 22, nessa ordem\n",
    "print(lista2)\n",
    "\n",
    "lista3 = lista1 + lista2        # não é soma elemento a elemento\n",
    "lista4 = lista2 + lista1        # estamos juntando duas listas\n",
    "print(lista3, \"\\n\", lista4)\n",
    "print(lista3[1:8:2])\n",
    "\n",
    "print(lista3[6])\n",
    "del(lista3[0:3])                # deletando os elementos da primeira até a terceira posição\n",
    "print(lista3, \"\\n\", lista3[6])  # note que o valor da lista no index 6 é alterados\n",
    "# pois os elementos foram removidos, e o índice foi \"recalculado\"\n"
   ]
  },
  {
   "cell_type": "markdown",
   "metadata": {},
   "source": [
    "Por fim, vale apontar que temos que cuidar quando formos criar uma nova lista a partir de uma antiga. Pois se utilizarmos o símbolo de igualdade com a finalidade de dizer que a nova lista é igual à anterior, estaremos criando uma nova lista que aponta para o mesmo local da memória que a anterior, pois estaremos copiando a referência da memória, e não os valores em si. Para copiar apenas os valores, mas em uma lista diferente, devemos dizer que a nova lista é igual ao slice completo da anterior, ou que é um objeto do tipo lista da anterior. Dessa forma, pegaremos os valores e eles estarão em um local diferente da memória."
   ]
  },
  {
   "cell_type": "code",
   "execution_count": 14,
   "metadata": {},
   "outputs": [
    {
     "name": "stdout",
     "output_type": "stream",
     "text": [
      "['a', 1, 'c'] \n",
      " ['a', 1, 'c']\n",
      "[1, 2, 3] \n",
      " [1, 'b', 3] \n",
      " [1, 2, 'c']\n"
     ]
    }
   ],
   "source": [
    "lista1 = [\"a\", \"b\", \"c\"]\n",
    "lista2 = lista1\n",
    "lista2[1] = 1\n",
    "print(lista1, \"\\n\", lista2)     # note que as duas listas possuem os mesmos valores, mesmo que a gente tenha mudado apenas a lista 2\n",
    "\n",
    "lista3 = [1, 2, 3]\n",
    "lista4 = lista3[:]\n",
    "lista5 = list(lista3)\n",
    "lista4[1] = \"b\"\n",
    "lista5[-1] = \"c\"\n",
    "print(lista3, \"\\n\", lista4, \"\\n\", lista5)"
   ]
  }
 ],
 "metadata": {
  "kernelspec": {
   "display_name": "Python 3",
   "language": "python",
   "name": "python3"
  },
  "language_info": {
   "codemirror_mode": {
    "name": "ipython",
    "version": 3
   },
   "file_extension": ".py",
   "mimetype": "text/x-python",
   "name": "python",
   "nbconvert_exporter": "python",
   "pygments_lexer": "ipython3",
   "version": "3.7.6"
  }
 },
 "nbformat": 4,
 "nbformat_minor": 4
}
